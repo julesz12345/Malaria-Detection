{
 "cells": [
  {
   "cell_type": "markdown",
   "id": "36d9a718",
   "metadata": {},
   "source": [
    "### Loading Libraries"
   ]
  },
  {
   "cell_type": "code",
   "execution_count": 6,
   "id": "31fccdf0",
   "metadata": {},
   "outputs": [],
   "source": [
    "#Importing libraries required to load the data\n",
    "\n",
    "import zipfile\n",
    "import os\n",
    "from PIL import Image\n",
    "import numpy as np\n",
    "import pandas as pd\n",
    "import matplotlib.pyplot as plt\n",
    "import seaborn as sns\n",
    "import requests\n",
    "import io\n",
    "\n",
    "from sklearn.model_selection import train_test_split\n",
    "from sklearn.preprocessing import MinMaxScaler\n",
    "\n",
    "import tensorflow as tf\n",
    "from tensorflow.keras.models import Sequential\n",
    "from tensorflow.keras.layers import Dense, Conv2D, MaxPool2D, BatchNormalization, Dropout, Flatten, LeakyReLU, GlobalAvgPool2D\n",
    "from tensorflow.keras.utils import to_categorical\n",
    "from tensorflow.keras import optimizers\n",
    "\n",
    "#to ignore warnings\n",
    "import warnings\n",
    "warnings.filterwarnings('ignore')\n",
    "\n",
    "pd.set_option(\"display.max_columns\", None)\n",
    "pd.set_option(\"display.max_rows\", 200)"
   ]
  },
  {
   "cell_type": "markdown",
   "id": "114484a5",
   "metadata": {},
   "source": [
    "### Importing Data"
   ]
  },
  {
   "cell_type": "code",
   "execution_count": 8,
   "id": "1c9152ff",
   "metadata": {},
   "outputs": [],
   "source": [
    "# Import data\n",
    "\n",
    "path = 'cell_images.zip'\n",
    "with zipfile.ZipFile(path, 'r') as zip_ref:\n",
    "    zip_ref.extractall()"
   ]
  },
  {
   "cell_type": "markdown",
   "id": "1ad427e8",
   "metadata": {},
   "source": [
    "### Splitting Data"
   ]
  },
  {
   "cell_type": "code",
   "execution_count": 9,
   "id": "affa5f93",
   "metadata": {},
   "outputs": [],
   "source": [
    "#Storing the path of the extracted \"train\" folder \n",
    "train_dir = '/cell_images/train'\n",
    "\n",
    "#Size of image so that each image has the same size\n",
    "SIZE = 64\n",
    "\n",
    "#Empty list to store the training images after they are converted to NumPy arrays\n",
    "train_images = []\n",
    "\n",
    "#Empty list to store the training labels (0 - uninfected, 1 - parasitized)\n",
    "train_labels = []"
   ]
  },
  {
   "cell_type": "code",
   "execution_count": 11,
   "id": "ad61d867",
   "metadata": {},
   "outputs": [],
   "source": [
    "#We will run the same code for \"parasitized\" as well as \"uninfected\" folders within the \"train\" folder\n",
    "for folder_name in ['/parasitized/', '/uninfected/']:\n",
    "    \n",
    "    #Path of the folder\n",
    "    images_path = os.listdir(\"C:/Users/Jules/Documents/Malaria-Detection\" + train_dir + folder_name)\n",
    "\n",
    "    for i, image_name in enumerate(images_path):\n",
    "        try:\n",
    "            #Opening each image using the path of that image\n",
    "            image = Image.open(\"C:/Users/Jules/Documents/Malaria-Detection\" + train_dir + folder_name + image_name)\n",
    "\n",
    "            #Resizing each image to (224,224)\n",
    "            image = image.resize((SIZE, SIZE))\n",
    "\n",
    "            #Converting images to arrays and appending that array to the empty list defined above\n",
    "            train_images.append(np.array(image))\n",
    "\n",
    "            #Creating labels for parasitized and uninfected images\n",
    "            if folder_name=='/parasitized/':\n",
    "                train_labels.append(1)\n",
    "            else:\n",
    "                train_labels.append(0)\n",
    "        except Exception:\n",
    "            pass       \n",
    "\n",
    "#Converting lists to arrays\n",
    "train_images = np.array(train_images)\n",
    "train_labels = np.array(train_labels)"
   ]
  },
  {
   "cell_type": "code",
   "execution_count": 12,
   "id": "1a332646",
   "metadata": {},
   "outputs": [],
   "source": [
    "#Storing the path of the extracted \"test\" folder \n",
    "test_dir = '/cell_images/test'\n",
    "\n",
    "#Size of image so that each image has the same size (it must be same as the train image size)\n",
    "SIZE = 64\n",
    "\n",
    "#Empty list to store the testing images after they are converted to NumPy arrays\n",
    "test_images = []\n",
    "\n",
    "#Empty list to store the testing labels (0 - uninfected, 1 - parasitized)\n",
    "test_labels = []"
   ]
  },
  {
   "cell_type": "code",
   "execution_count": 13,
   "id": "69ad3231",
   "metadata": {},
   "outputs": [],
   "source": [
    "#We will run the same code for \"parasitized\" as well as \"uninfected\" folders within the \"test\" folder\n",
    "for folder_name in ['/parasitized/', '/uninfected/']:\n",
    "    \n",
    "    #Path of the folder\n",
    "    images_path = os.listdir(\"C:/Users/Jules/Documents/Malaria-Detection\" + test_dir + folder_name)\n",
    "\n",
    "    for i, image_name in enumerate(images_path):\n",
    "        try:\n",
    "            #Opening each image using the path of that image\n",
    "            image = Image.open(\"C:/Users/Jules/Documents/Malaria-Detection\" + test_dir + folder_name + image_name)\n",
    "            \n",
    "            #Resizing each image to (128,128)\n",
    "            image = image.resize((SIZE, SIZE))\n",
    "            \n",
    "            #Converting images to arrays and appending that array to the empty list defined above\n",
    "            test_images.append(np.array(image))\n",
    "            \n",
    "            #Creating labels for parasitized and uninfected images\n",
    "            if folder_name=='/parasitized/':\n",
    "                test_labels.append(1)\n",
    "            else:\n",
    "                test_labels.append(0)\n",
    "        except Exception:\n",
    "            pass       \n",
    "\n",
    "#Converting lists to arrays\n",
    "test_images = np.array(test_images)\n",
    "test_labels = np.array(test_labels)"
   ]
  },
  {
   "cell_type": "markdown",
   "id": "5a0ab622",
   "metadata": {},
   "source": [
    "### Data Exploration"
   ]
  },
  {
   "cell_type": "code",
   "execution_count": 15,
   "id": "99f3c6c0",
   "metadata": {},
   "outputs": [
    {
     "name": "stdout",
     "output_type": "stream",
     "text": [
      "Training set: (24958, 64, 64, 3)\n",
      "Test set: (2600, 64, 64, 3)\n",
      "Training label: (24958,)\n",
      "Test label: (2600,)\n"
     ]
    }
   ],
   "source": [
    "# Shape of data\n",
    "print('Training set:', train_images.shape)\n",
    "print('Test set:', test_images.shape)\n",
    "print('Training label:', train_labels.shape)\n",
    "print('Test label:', test_labels.shape)"
   ]
  },
  {
   "cell_type": "code",
   "execution_count": null,
   "id": "60de1196",
   "metadata": {},
   "outputs": [],
   "source": []
  }
 ],
 "metadata": {
  "kernelspec": {
   "display_name": "Python 3 (ipykernel)",
   "language": "python",
   "name": "python3"
  },
  "language_info": {
   "codemirror_mode": {
    "name": "ipython",
    "version": 3
   },
   "file_extension": ".py",
   "mimetype": "text/x-python",
   "name": "python",
   "nbconvert_exporter": "python",
   "pygments_lexer": "ipython3",
   "version": "3.9.7"
  }
 },
 "nbformat": 4,
 "nbformat_minor": 5
}
